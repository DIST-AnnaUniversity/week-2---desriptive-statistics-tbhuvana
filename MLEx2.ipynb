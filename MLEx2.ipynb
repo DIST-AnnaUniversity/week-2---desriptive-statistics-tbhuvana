{
  "nbformat": 4,
  "nbformat_minor": 0,
  "metadata": {
    "colab": {
      "provenance": []
    },
    "kernelspec": {
      "name": "python3",
      "display_name": "Python 3"
    },
    "language_info": {
      "name": "python"
    }
  },
  "cells": [
    {
      "cell_type": "markdown",
      "source": [
        "1. The miles per gallon rating for \n",
        "30\n",
        " cars are shown below (lowest to highest).  \n",
        "19\n",
        ", \n",
        "19\n",
        ", \n",
        "19\n",
        ", \n",
        "20\n",
        ", \n",
        "21\n",
        ", \n",
        "21\n",
        ", \n",
        "25\n",
        ", \n",
        "25\n",
        ", \n",
        "25\n",
        ", \n",
        "26\n",
        ", \n",
        "26\n",
        ", \n",
        "28\n",
        ", \n",
        "29\n",
        ", \n",
        "31\n",
        ", \n",
        "31\n",
        ", \n",
        "32\n",
        ", \n",
        "32\n",
        ", \n",
        "33\n",
        ", \n",
        "34\n",
        ", \n",
        "35\n",
        ", \n",
        "36\n",
        ", \n",
        "37\n",
        ", \n",
        "37\n",
        ", \n",
        "38\n",
        ", \n",
        "38\n",
        ", \n",
        "38\n",
        ", \n",
        "38\n",
        ", \n",
        "41\n",
        ", \n",
        "43\n",
        ", \n",
        "43 <br>\n",
        "create a stem plot and identify any outliers"
      ],
      "metadata": {
        "id": "uV_QzQAMiDSy"
      }
    },
    {
      "cell_type": "code",
      "execution_count": null,
      "metadata": {
        "id": "7_ZBatvwh-Nb"
      },
      "outputs": [],
      "source": [
        "x = [19 , 19 , 19 , 20 , 21 , 21 , 25 , 25 , 25 , 26 , 26 , 28 , 29 , 31 , 31 , 32 , 32 , 33 , 34 , 35 , 36 , 37 , 37 , 38 , 38 , 38 , 38 , 41 , 43 , 43]"
      ]
    },
    {
      "cell_type": "code",
      "source": [
        "stemPlot = {}\n",
        "for i in range((min(x)//10),(max(x)//10)+1):\n",
        "  stemPlot[i] = []\n",
        "\n",
        "for i in x:\n",
        "  leaf = i%10\n",
        "  stem = i//10\n",
        "  stemPlot[stem].append(leaf)\n",
        "\n",
        "stemPlot"
      ],
      "metadata": {
        "colab": {
          "base_uri": "https://localhost:8080/"
        },
        "id": "YQ8J4uZvifQJ",
        "outputId": "f44259ba-cec4-4f84-de68-1a08757a1965"
      },
      "execution_count": null,
      "outputs": [
        {
          "output_type": "execute_result",
          "data": {
            "text/plain": [
              "{1: [9, 9, 9],\n",
              " 2: [0, 1, 1, 5, 5, 5, 6, 6, 8, 9],\n",
              " 3: [1, 1, 2, 2, 3, 4, 5, 6, 7, 7, 8, 8, 8, 8],\n",
              " 4: [1, 3, 3]}"
            ]
          },
          "metadata": {},
          "execution_count": 3
        }
      ]
    },
    {
      "cell_type": "markdown",
      "source": [
        "12. Student grades on a chemistry exam were: \n",
        "77\n",
        ", \n",
        "78\n",
        ", \n",
        "76\n",
        ", \n",
        "81\n",
        ", \n",
        "86\n",
        ", \n",
        "51\n",
        ", \n",
        "79\n",
        ", \n",
        "82\n",
        ", \n",
        "84\n",
        ", \n",
        "99<br>\n",
        "Construct a stem-and-leaf plot of the data.<br>\n",
        "Are there any potential outliers? If so, which scores are they? Why do you consider them outliers?"
      ],
      "metadata": {
        "id": "2LmDDhu1joX4"
      }
    },
    {
      "cell_type": "code",
      "source": [
        "x = [77 , 78 , 76 , 81 , 86 , 51 , 79 , 82 , 84 , 99]"
      ],
      "metadata": {
        "id": "2fIOpBNZjceh"
      },
      "execution_count": null,
      "outputs": []
    },
    {
      "cell_type": "code",
      "source": [
        "x.sort()\n",
        "stemPlot = {}\n",
        "for i in range((min(x)//10),(max(x)//10)+1):\n",
        "  stemPlot[i] = []\n",
        "for i in x:\n",
        "  leaf = i%10\n",
        "  stem = i//10\n",
        "  stemPlot[stem].append(leaf)\n",
        "stemPlot"
      ],
      "metadata": {
        "colab": {
          "base_uri": "https://localhost:8080/"
        },
        "id": "PLxFjL0gj3Cp",
        "outputId": "8ca6f6e4-0873-4b9b-8b30-d75299d0233e"
      },
      "execution_count": null,
      "outputs": [
        {
          "output_type": "execute_result",
          "data": {
            "text/plain": [
              "{5: [1], 6: [], 7: [6, 7, 8, 9], 8: [1, 2, 4, 6], 9: [9]}"
            ]
          },
          "metadata": {},
          "execution_count": 5
        }
      ]
    },
    {
      "cell_type": "markdown",
      "source": [
        "Here value 51 could be an outlier since rest of the data fits inside the range \n",
        "\n",
        "\n",
        "49. Twenty-five randomly selected students were asked the number of movies they watched the previous week. The results are as follows:\n",
        "![image.png](data:image/png;base64,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)\n",
        "Construct a box plot of the data.\n"
      ],
      "metadata": {
        "id": "0TD8eKS1m09R"
      }
    },
    {
      "cell_type": "code",
      "source": [
        "import matplotlib.pyplot as plt\n",
        "import numpy as np\n",
        "val=np.array([0,1,2,3,4])\n",
        "fre=np.array([5,9,6,4,1])\n",
        "data=np.repeat(val,fre)\n",
        "plt.boxplot(data)\n",
        "plt.show()"
      ],
      "metadata": {
        "id": "8BinJ4Zi3ZN5",
        "outputId": "23e0b2a2-0fb4-4065-9916-ef5fbff9967e",
        "colab": {
          "base_uri": "https://localhost:8080/",
          "height": 265
        }
      },
      "execution_count": null,
      "outputs": [
        {
          "output_type": "display_data",
          "data": {
            "text/plain": [
              "<Figure size 432x288 with 1 Axes>"
            ],
            "image/png": "[encoded data removed]"
          },
          "metadata": {
            "needs_background": "light"
          }
        }
      ]
    },
    {
      "cell_type": "markdown",
      "source": [
        "Use the following information to answer the next three exercises: We are interested in the number of years students in a particular elementary statistics class have lived in California. The information in the following table is from the entire section.\n",
        "![image.png](data:image/png;base64,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)\n",
        "\n",
        "\n",
        "61. What is the \n",
        "I\n",
        "Q\n",
        "R\n",
        "?\n",
        "\n"
      ],
      "metadata": {
        "id": "dppJ03_H4UT6"
      }
    },
    {
      "cell_type": "code",
      "source": [
        "import numpy as np\n",
        "value=np.array([7,14,15,18,19,20,22,23,26,40,42])\n",
        "freq=np.array([1,3,1,1,4,3,1,1,1,2,2])\n",
        "data=np.repeat(value,freq)\n",
        "q1 = np.percentile(data, 25, interpolation=\"midpoint\")\n",
        "q3 = np.percentile(data, 75, interpolation=\"midpoint\")\n",
        "IRQ = q3 - q1\n",
        "IRQ\n"
      ],
      "metadata": {
        "id": "cZOiGYCU5HLq",
        "outputId": "aa186460-3020-49a0-ea08-277882f0f16d",
        "colab": {
          "base_uri": "https://localhost:8080/"
        }
      },
      "execution_count": null,
      "outputs": [
        {
          "output_type": "execute_result",
          "data": {
            "text/plain": [
              "8.0"
            ]
          },
          "metadata": {},
          "execution_count": 10
        }
      ]
    },
    {
      "cell_type": "markdown",
      "source": [
        "62. What is the mode?\n"
      ],
      "metadata": {
        "id": "uWwULnVY75bO"
      }
    },
    {
      "cell_type": "code",
      "source": [
        "import statistics\n",
        "statistics.mode(data)"
      ],
      "metadata": {
        "id": "q9-hVVRA77nl",
        "outputId": "5c40e3b4-e354-4a2e-8222-c038446ac95d",
        "colab": {
          "base_uri": "https://localhost:8080/"
        }
      },
      "execution_count": null,
      "outputs": [
        {
          "output_type": "execute_result",
          "data": {
            "text/plain": [
              "19"
            ]
          },
          "metadata": {},
          "execution_count": 11
        }
      ]
    },
    {
      "cell_type": "markdown",
      "source": [
        "63. Is this a sample or the entire population?\n",
        "\n",
        "\n",
        "sample\n",
        "\n"
      ],
      "metadata": {
        "id": "0dIHw0nM884U"
      }
    },
    {
      "cell_type": "markdown",
      "source": [
        "![image.png](data:image/png;base64,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)\n",
        "\n",
        "\n",
        "Q_3_1) Apply the measure of central tendency\n",
        "\n",
        "\n",
        "\n"
      ],
      "metadata": {
        "id": "ft3u3m569Jb0"
      }
    },
    {
      "cell_type": "code",
      "source": [
        "import pandas as pd\n",
        "\n",
        "d={'name': pd.Series(['Cereals','meat','Egg','Milk','Oil & fats', 'Fruits','Veg','Pulses']),\n",
        "   'January': pd.Series([148.3,196.9,178,160.5,192.6,151.2,159.2,164]),\n",
        "   'February' : pd.Series([150,200.6,175.8,160.7,184.9,153.7,169.7,163.7])}\n",
        "\n",
        "df=pd.DataFrame(d)\n",
        "print(\"Mean of dataset\")\n",
        "\n",
        "print(df.mean())\n",
        "print(\"Median\")\n",
        "\n",
        "print(df.median())"
      ],
      "metadata": {
        "id": "X0dyyyrkBZmR",
        "colab": {
          "base_uri": "https://localhost:8080/"
        },
        "outputId": "6b07ff38-b6c0-44b6-a624-407805a58448"
      },
      "execution_count": 1,
      "outputs": [
        {
          "output_type": "stream",
          "name": "stdout",
          "text": [
            "Mean of dataset\n",
            "January     168.8375\n",
            "February    169.8875\n",
            "dtype: float64\n",
            "Median\n",
            "January     162.25\n",
            "February    166.70\n",
            "dtype: float64\n"
          ]
        },
        {
          "output_type": "stream",
          "name": "stderr",
          "text": [
            "/usr/local/lib/python3.7/dist-packages/ipykernel_launcher.py:10: FutureWarning: Dropping of nuisance columns in DataFrame reductions (with 'numeric_only=None') is deprecated; in a future version this will raise TypeError.  Select only valid columns before calling the reduction.\n",
            "  # Remove the CWD from sys.path while we load stuff.\n",
            "/usr/local/lib/python3.7/dist-packages/ipykernel_launcher.py:13: FutureWarning: Dropping of nuisance columns in DataFrame reductions (with 'numeric_only=None') is deprecated; in a future version this will raise TypeError.  Select only valid columns before calling the reduction.\n",
            "  del sys.path[0]\n"
          ]
        }
      ]
    },
    {
      "cell_type": "markdown",
      "source": [
        "Q_3_2) Draw the box plot\n"
      ],
      "metadata": {
        "id": "_LW7at3jWblV"
      }
    },
    {
      "cell_type": "code",
      "source": [
        "import matplotlib.pyplot as plt\n",
        "import numpy as np\n",
        "s=np.array([148.3,196.9,178,160.5,192.6,151.2,159.2,164])\n",
        "plt.boxplot(s)\n",
        "plt.show()"
      ],
      "metadata": {
        "colab": {
          "base_uri": "https://localhost:8080/",
          "height": 265
        },
        "id": "mXE4IPvAWmo2",
        "outputId": "4cde1735-ba88-46aa-fb2f-eab89bc55850"
      },
      "execution_count": 2,
      "outputs": [
        {
          "output_type": "display_data",
          "data": {
            "text/plain": [
              "<Figure size 432x288 with 1 Axes>"
            ],
            "image/png": "[encoded data removed]"
          },
          "metadata": {
            "needs_background": "light"
          }
        }
      ]
    },
    {
      "cell_type": "markdown",
      "source": [
        "Q_3_3) Determine the outliers\n",
        "\n"
      ],
      "metadata": {
        "id": "9ZPMWfY9YRq8"
      }
    },
    {
      "cell_type": "code",
      "source": [
        "import numpy as np\n",
        "january=np.array([148.3,196.9,178,160.5,192.6,151.2,159.2,164,110])\n",
        "Q1=np.percentile(january, 25)\n",
        "Q3=np.percentile(january, 75)\n",
        "irq = Q3-Q1\n",
        "lower_bound = Q1 - (1.5*irq)\n",
        "upper_bound = Q3 + (1.5*irq)\n",
        "outlier= [ x for x in january if x <= lower_bound or x >= upper_bound]\n",
        "outlier"
      ],
      "metadata": {
        "colab": {
          "base_uri": "https://localhost:8080/"
        },
        "id": "dTgVVrt1Yjxu",
        "outputId": "3b675273-36dd-4bb1-b001-06d1e6780ff3"
      },
      "execution_count": 3,
      "outputs": [
        {
          "output_type": "execute_result",
          "data": {
            "text/plain": [
              "[110.0]"
            ]
          },
          "metadata": {},
          "execution_count": 3
        }
      ]
    }
  ]
}